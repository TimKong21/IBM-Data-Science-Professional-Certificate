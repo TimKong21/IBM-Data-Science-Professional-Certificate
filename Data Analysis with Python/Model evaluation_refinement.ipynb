{
 "cells": [
  {
   "cell_type": "markdown",
   "metadata": {},
   "source": [
    "<h1>Table of content</h1>\n",
    "<ul>\n",
    "    <li><a href=\"#ref1\">Model Evaluation </a></li>\n",
    "    <li><a href=\"#ref2\">Over-fitting, Under-fitting and Model Selection </a></li>\n",
    "    <li><a href=\"#ref3\">Ridge Regression </a></li>\n",
    "    <li><a href=\"#ref4\">Grid Search</a></li>\n",
    "</ul>"
   ]
  },
  {
   "cell_type": "markdown",
   "metadata": {},
   "source": [
    "## Related modules and data preperation"
   ]
  },
  {
   "cell_type": "markdown",
   "metadata": {},
   "source": [
    "### Import libraries"
   ]
  },
  {
   "cell_type": "markdown",
   "metadata": {},
   "source": [
    "update matplotlib\n",
    "```python\n",
    "!pip install --user -U matplotlib\n",
    "```"
   ]
  },
  {
   "cell_type": "code",
   "execution_count": 1,
   "metadata": {},
   "outputs": [],
   "source": [
    "import pandas as pd\n",
    "import numpy as np\n",
    "import sklearn\n",
    "\n",
    "from sklearn.model_selection import train_test_split\n",
    "from sklearn.linear_model import LinearRegression\n",
    "from sklearn.metrics import mean_squared_error\n",
    "from sklearn.model_selection import cross_val_score\n",
    "from sklearn.model_selection import cross_val_predict\n",
    "from sklearn.preprocessing import PolynomialFeatures\n",
    "from sklearn.linear_model import Ridge\n",
    "from sklearn.model_selection import GridSearchCV\n",
    "\n",
    "%matplotlib inline\n",
    "import matplotlib.pyplot as plt\n",
    "import seaborn as sns\n",
    "plt.style.use('ggplot')"
   ]
  },
  {
   "cell_type": "markdown",
   "metadata": {},
   "source": [
    "### Import data"
   ]
  },
  {
   "cell_type": "code",
   "execution_count": 2,
   "metadata": {},
   "outputs": [],
   "source": [
    "# Import cleaned data \n",
    "path = 'https://cf-courses-data.s3.us.cloud-object-storage.appdomain.cloud/IBMDeveloperSkillsNetwork-DA0101EN-SkillsNetwork/labs/Data%20files/module_5_auto.csv'\n",
    "df = pd.read_csv(path)"
   ]
  },
  {
   "cell_type": "code",
   "execution_count": 3,
   "metadata": {},
   "outputs": [
    {
     "data": {
      "text/html": [
       "<div>\n",
       "<style scoped>\n",
       "    .dataframe tbody tr th:only-of-type {\n",
       "        vertical-align: middle;\n",
       "    }\n",
       "\n",
       "    .dataframe tbody tr th {\n",
       "        vertical-align: top;\n",
       "    }\n",
       "\n",
       "    .dataframe thead th {\n",
       "        text-align: right;\n",
       "    }\n",
       "</style>\n",
       "<table border=\"1\" class=\"dataframe\">\n",
       "  <thead>\n",
       "    <tr style=\"text-align: right;\">\n",
       "      <th></th>\n",
       "      <th>Unnamed: 0</th>\n",
       "      <th>Unnamed: 0.1</th>\n",
       "      <th>symboling</th>\n",
       "      <th>normalized-losses</th>\n",
       "      <th>make</th>\n",
       "      <th>aspiration</th>\n",
       "      <th>num-of-doors</th>\n",
       "      <th>body-style</th>\n",
       "      <th>drive-wheels</th>\n",
       "      <th>engine-location</th>\n",
       "      <th>...</th>\n",
       "      <th>compression-ratio</th>\n",
       "      <th>horsepower</th>\n",
       "      <th>peak-rpm</th>\n",
       "      <th>city-mpg</th>\n",
       "      <th>highway-mpg</th>\n",
       "      <th>price</th>\n",
       "      <th>city-L/100km</th>\n",
       "      <th>horsepower-binned</th>\n",
       "      <th>diesel</th>\n",
       "      <th>gas</th>\n",
       "    </tr>\n",
       "  </thead>\n",
       "  <tbody>\n",
       "    <tr>\n",
       "      <th>0</th>\n",
       "      <td>0</td>\n",
       "      <td>0</td>\n",
       "      <td>3</td>\n",
       "      <td>122</td>\n",
       "      <td>alfa-romero</td>\n",
       "      <td>std</td>\n",
       "      <td>two</td>\n",
       "      <td>convertible</td>\n",
       "      <td>rwd</td>\n",
       "      <td>front</td>\n",
       "      <td>...</td>\n",
       "      <td>9.0</td>\n",
       "      <td>111.0</td>\n",
       "      <td>5000.0</td>\n",
       "      <td>21</td>\n",
       "      <td>27</td>\n",
       "      <td>13495.0</td>\n",
       "      <td>11.190476</td>\n",
       "      <td>Medium</td>\n",
       "      <td>0</td>\n",
       "      <td>1</td>\n",
       "    </tr>\n",
       "    <tr>\n",
       "      <th>1</th>\n",
       "      <td>1</td>\n",
       "      <td>1</td>\n",
       "      <td>3</td>\n",
       "      <td>122</td>\n",
       "      <td>alfa-romero</td>\n",
       "      <td>std</td>\n",
       "      <td>two</td>\n",
       "      <td>convertible</td>\n",
       "      <td>rwd</td>\n",
       "      <td>front</td>\n",
       "      <td>...</td>\n",
       "      <td>9.0</td>\n",
       "      <td>111.0</td>\n",
       "      <td>5000.0</td>\n",
       "      <td>21</td>\n",
       "      <td>27</td>\n",
       "      <td>16500.0</td>\n",
       "      <td>11.190476</td>\n",
       "      <td>Medium</td>\n",
       "      <td>0</td>\n",
       "      <td>1</td>\n",
       "    </tr>\n",
       "    <tr>\n",
       "      <th>2</th>\n",
       "      <td>2</td>\n",
       "      <td>2</td>\n",
       "      <td>1</td>\n",
       "      <td>122</td>\n",
       "      <td>alfa-romero</td>\n",
       "      <td>std</td>\n",
       "      <td>two</td>\n",
       "      <td>hatchback</td>\n",
       "      <td>rwd</td>\n",
       "      <td>front</td>\n",
       "      <td>...</td>\n",
       "      <td>9.0</td>\n",
       "      <td>154.0</td>\n",
       "      <td>5000.0</td>\n",
       "      <td>19</td>\n",
       "      <td>26</td>\n",
       "      <td>16500.0</td>\n",
       "      <td>12.368421</td>\n",
       "      <td>Medium</td>\n",
       "      <td>0</td>\n",
       "      <td>1</td>\n",
       "    </tr>\n",
       "    <tr>\n",
       "      <th>3</th>\n",
       "      <td>3</td>\n",
       "      <td>3</td>\n",
       "      <td>2</td>\n",
       "      <td>164</td>\n",
       "      <td>audi</td>\n",
       "      <td>std</td>\n",
       "      <td>four</td>\n",
       "      <td>sedan</td>\n",
       "      <td>fwd</td>\n",
       "      <td>front</td>\n",
       "      <td>...</td>\n",
       "      <td>10.0</td>\n",
       "      <td>102.0</td>\n",
       "      <td>5500.0</td>\n",
       "      <td>24</td>\n",
       "      <td>30</td>\n",
       "      <td>13950.0</td>\n",
       "      <td>9.791667</td>\n",
       "      <td>Medium</td>\n",
       "      <td>0</td>\n",
       "      <td>1</td>\n",
       "    </tr>\n",
       "    <tr>\n",
       "      <th>4</th>\n",
       "      <td>4</td>\n",
       "      <td>4</td>\n",
       "      <td>2</td>\n",
       "      <td>164</td>\n",
       "      <td>audi</td>\n",
       "      <td>std</td>\n",
       "      <td>four</td>\n",
       "      <td>sedan</td>\n",
       "      <td>4wd</td>\n",
       "      <td>front</td>\n",
       "      <td>...</td>\n",
       "      <td>8.0</td>\n",
       "      <td>115.0</td>\n",
       "      <td>5500.0</td>\n",
       "      <td>18</td>\n",
       "      <td>22</td>\n",
       "      <td>17450.0</td>\n",
       "      <td>13.055556</td>\n",
       "      <td>Medium</td>\n",
       "      <td>0</td>\n",
       "      <td>1</td>\n",
       "    </tr>\n",
       "  </tbody>\n",
       "</table>\n",
       "<p>5 rows × 31 columns</p>\n",
       "</div>"
      ],
      "text/plain": [
       "   Unnamed: 0  Unnamed: 0.1  symboling  normalized-losses         make  \\\n",
       "0           0             0          3                122  alfa-romero   \n",
       "1           1             1          3                122  alfa-romero   \n",
       "2           2             2          1                122  alfa-romero   \n",
       "3           3             3          2                164         audi   \n",
       "4           4             4          2                164         audi   \n",
       "\n",
       "  aspiration num-of-doors   body-style drive-wheels engine-location  ...  \\\n",
       "0        std          two  convertible          rwd           front  ...   \n",
       "1        std          two  convertible          rwd           front  ...   \n",
       "2        std          two    hatchback          rwd           front  ...   \n",
       "3        std         four        sedan          fwd           front  ...   \n",
       "4        std         four        sedan          4wd           front  ...   \n",
       "\n",
       "   compression-ratio  horsepower  peak-rpm  city-mpg  highway-mpg    price  \\\n",
       "0                9.0       111.0    5000.0        21           27  13495.0   \n",
       "1                9.0       111.0    5000.0        21           27  16500.0   \n",
       "2                9.0       154.0    5000.0        19           26  16500.0   \n",
       "3               10.0       102.0    5500.0        24           30  13950.0   \n",
       "4                8.0       115.0    5500.0        18           22  17450.0   \n",
       "\n",
       "  city-L/100km  horsepower-binned diesel  gas  \n",
       "0    11.190476             Medium      0    1  \n",
       "1    11.190476             Medium      0    1  \n",
       "2    12.368421             Medium      0    1  \n",
       "3     9.791667             Medium      0    1  \n",
       "4    13.055556             Medium      0    1  \n",
       "\n",
       "[5 rows x 31 columns]"
      ]
     },
     "execution_count": 3,
     "metadata": {},
     "output_type": "execute_result"
    }
   ],
   "source": [
    "# df = df._get_numeric_data()\n",
    "df.head()"
   ]
  },
  {
   "cell_type": "markdown",
   "metadata": {},
   "source": [
    "### Widget that makes notebook more interactive\n",
    "``` python\n",
    "\n",
    "%%capture\n",
    "!pip install ipywidgets\n",
    "```"
   ]
  },
  {
   "cell_type": "code",
   "execution_count": 4,
   "metadata": {},
   "outputs": [],
   "source": [
    "from ipywidgets import interact, interactive, fixed, interact_manual\n",
    "import ipywidgets as widgets"
   ]
  },
  {
   "cell_type": "markdown",
   "metadata": {},
   "source": [
    "## Part 1: Outr of sample evaluation (Model evaluation)\n",
    "An important step in testing your model is to split your data into training and testing data. We will place the target data <b>price</b> in a separate dataframe\n",
    "- e.g. 10% test data 90% training data"
   ]
  },
  {
   "cell_type": "markdown",
   "metadata": {},
   "source": [
    "To check available scoring key, use code below"
   ]
  },
  {
   "cell_type": "code",
   "execution_count": 5,
   "metadata": {
    "scrolled": true,
    "tags": []
   },
   "outputs": [
    {
     "name": "stdout",
     "output_type": "stream",
     "text": [
      "explained_variance\n",
      "r2\n",
      "max_error\n",
      "neg_median_absolute_error\n",
      "neg_mean_absolute_error\n",
      "neg_mean_squared_error\n",
      "neg_mean_squared_log_error\n",
      "neg_root_mean_squared_error\n",
      "neg_mean_poisson_deviance\n",
      "neg_mean_gamma_deviance\n",
      "accuracy\n",
      "roc_auc\n",
      "roc_auc_ovr\n",
      "roc_auc_ovo\n",
      "roc_auc_ovr_weighted\n",
      "roc_auc_ovo_weighted\n",
      "balanced_accuracy\n",
      "average_precision\n",
      "neg_log_loss\n",
      "neg_brier_score\n",
      "adjusted_rand_score\n",
      "homogeneity_score\n",
      "completeness_score\n",
      "v_measure_score\n",
      "mutual_info_score\n",
      "adjusted_mutual_info_score\n",
      "normalized_mutual_info_score\n",
      "fowlkes_mallows_score\n",
      "precision\n",
      "precision_macro\n",
      "precision_micro\n",
      "precision_samples\n",
      "precision_weighted\n",
      "recall\n",
      "recall_macro\n",
      "recall_micro\n",
      "recall_samples\n",
      "recall_weighted\n",
      "f1\n",
      "f1_macro\n",
      "f1_micro\n",
      "f1_samples\n",
      "f1_weighted\n",
      "jaccard\n",
      "jaccard_macro\n",
      "jaccard_micro\n",
      "jaccard_samples\n",
      "jaccard_weighted\n"
     ]
    }
   ],
   "source": [
    "for key in sklearn.metrics.SCORERS.keys():\n",
    "    print(key)"
   ]
  },
  {
   "cell_type": "markdown",
   "metadata": {},
   "source": [
    "### 1a.Hold-out split"
   ]
  },
  {
   "cell_type": "code",
   "execution_count": 6,
   "metadata": {},
   "outputs": [],
   "source": [
    " y_data = df['price'] #target"
   ]
  },
  {
   "cell_type": "code",
   "execution_count": 7,
   "metadata": {},
   "outputs": [
    {
     "data": {
      "text/html": [
       "<div>\n",
       "<style scoped>\n",
       "    .dataframe tbody tr th:only-of-type {\n",
       "        vertical-align: middle;\n",
       "    }\n",
       "\n",
       "    .dataframe tbody tr th {\n",
       "        vertical-align: top;\n",
       "    }\n",
       "\n",
       "    .dataframe thead th {\n",
       "        text-align: right;\n",
       "    }\n",
       "</style>\n",
       "<table border=\"1\" class=\"dataframe\">\n",
       "  <thead>\n",
       "    <tr style=\"text-align: right;\">\n",
       "      <th></th>\n",
       "      <th>Unnamed: 0</th>\n",
       "      <th>Unnamed: 0.1</th>\n",
       "      <th>symboling</th>\n",
       "      <th>normalized-losses</th>\n",
       "      <th>make</th>\n",
       "      <th>aspiration</th>\n",
       "      <th>num-of-doors</th>\n",
       "      <th>body-style</th>\n",
       "      <th>drive-wheels</th>\n",
       "      <th>engine-location</th>\n",
       "      <th>...</th>\n",
       "      <th>stroke</th>\n",
       "      <th>compression-ratio</th>\n",
       "      <th>horsepower</th>\n",
       "      <th>peak-rpm</th>\n",
       "      <th>city-mpg</th>\n",
       "      <th>highway-mpg</th>\n",
       "      <th>city-L/100km</th>\n",
       "      <th>horsepower-binned</th>\n",
       "      <th>diesel</th>\n",
       "      <th>gas</th>\n",
       "    </tr>\n",
       "  </thead>\n",
       "  <tbody>\n",
       "    <tr>\n",
       "      <th>0</th>\n",
       "      <td>0</td>\n",
       "      <td>0</td>\n",
       "      <td>3</td>\n",
       "      <td>122</td>\n",
       "      <td>alfa-romero</td>\n",
       "      <td>std</td>\n",
       "      <td>two</td>\n",
       "      <td>convertible</td>\n",
       "      <td>rwd</td>\n",
       "      <td>front</td>\n",
       "      <td>...</td>\n",
       "      <td>2.68</td>\n",
       "      <td>9.0</td>\n",
       "      <td>111.0</td>\n",
       "      <td>5000.0</td>\n",
       "      <td>21</td>\n",
       "      <td>27</td>\n",
       "      <td>11.190476</td>\n",
       "      <td>Medium</td>\n",
       "      <td>0</td>\n",
       "      <td>1</td>\n",
       "    </tr>\n",
       "    <tr>\n",
       "      <th>1</th>\n",
       "      <td>1</td>\n",
       "      <td>1</td>\n",
       "      <td>3</td>\n",
       "      <td>122</td>\n",
       "      <td>alfa-romero</td>\n",
       "      <td>std</td>\n",
       "      <td>two</td>\n",
       "      <td>convertible</td>\n",
       "      <td>rwd</td>\n",
       "      <td>front</td>\n",
       "      <td>...</td>\n",
       "      <td>2.68</td>\n",
       "      <td>9.0</td>\n",
       "      <td>111.0</td>\n",
       "      <td>5000.0</td>\n",
       "      <td>21</td>\n",
       "      <td>27</td>\n",
       "      <td>11.190476</td>\n",
       "      <td>Medium</td>\n",
       "      <td>0</td>\n",
       "      <td>1</td>\n",
       "    </tr>\n",
       "    <tr>\n",
       "      <th>2</th>\n",
       "      <td>2</td>\n",
       "      <td>2</td>\n",
       "      <td>1</td>\n",
       "      <td>122</td>\n",
       "      <td>alfa-romero</td>\n",
       "      <td>std</td>\n",
       "      <td>two</td>\n",
       "      <td>hatchback</td>\n",
       "      <td>rwd</td>\n",
       "      <td>front</td>\n",
       "      <td>...</td>\n",
       "      <td>3.47</td>\n",
       "      <td>9.0</td>\n",
       "      <td>154.0</td>\n",
       "      <td>5000.0</td>\n",
       "      <td>19</td>\n",
       "      <td>26</td>\n",
       "      <td>12.368421</td>\n",
       "      <td>Medium</td>\n",
       "      <td>0</td>\n",
       "      <td>1</td>\n",
       "    </tr>\n",
       "    <tr>\n",
       "      <th>3</th>\n",
       "      <td>3</td>\n",
       "      <td>3</td>\n",
       "      <td>2</td>\n",
       "      <td>164</td>\n",
       "      <td>audi</td>\n",
       "      <td>std</td>\n",
       "      <td>four</td>\n",
       "      <td>sedan</td>\n",
       "      <td>fwd</td>\n",
       "      <td>front</td>\n",
       "      <td>...</td>\n",
       "      <td>3.40</td>\n",
       "      <td>10.0</td>\n",
       "      <td>102.0</td>\n",
       "      <td>5500.0</td>\n",
       "      <td>24</td>\n",
       "      <td>30</td>\n",
       "      <td>9.791667</td>\n",
       "      <td>Medium</td>\n",
       "      <td>0</td>\n",
       "      <td>1</td>\n",
       "    </tr>\n",
       "    <tr>\n",
       "      <th>4</th>\n",
       "      <td>4</td>\n",
       "      <td>4</td>\n",
       "      <td>2</td>\n",
       "      <td>164</td>\n",
       "      <td>audi</td>\n",
       "      <td>std</td>\n",
       "      <td>four</td>\n",
       "      <td>sedan</td>\n",
       "      <td>4wd</td>\n",
       "      <td>front</td>\n",
       "      <td>...</td>\n",
       "      <td>3.40</td>\n",
       "      <td>8.0</td>\n",
       "      <td>115.0</td>\n",
       "      <td>5500.0</td>\n",
       "      <td>18</td>\n",
       "      <td>22</td>\n",
       "      <td>13.055556</td>\n",
       "      <td>Medium</td>\n",
       "      <td>0</td>\n",
       "      <td>1</td>\n",
       "    </tr>\n",
       "  </tbody>\n",
       "</table>\n",
       "<p>5 rows × 30 columns</p>\n",
       "</div>"
      ],
      "text/plain": [
       "   Unnamed: 0  Unnamed: 0.1  symboling  normalized-losses         make  \\\n",
       "0           0             0          3                122  alfa-romero   \n",
       "1           1             1          3                122  alfa-romero   \n",
       "2           2             2          1                122  alfa-romero   \n",
       "3           3             3          2                164         audi   \n",
       "4           4             4          2                164         audi   \n",
       "\n",
       "  aspiration num-of-doors   body-style drive-wheels engine-location  ...  \\\n",
       "0        std          two  convertible          rwd           front  ...   \n",
       "1        std          two  convertible          rwd           front  ...   \n",
       "2        std          two    hatchback          rwd           front  ...   \n",
       "3        std         four        sedan          fwd           front  ...   \n",
       "4        std         four        sedan          4wd           front  ...   \n",
       "\n",
       "   stroke  compression-ratio  horsepower  peak-rpm  city-mpg highway-mpg  \\\n",
       "0    2.68                9.0       111.0    5000.0        21          27   \n",
       "1    2.68                9.0       111.0    5000.0        21          27   \n",
       "2    3.47                9.0       154.0    5000.0        19          26   \n",
       "3    3.40               10.0       102.0    5500.0        24          30   \n",
       "4    3.40                8.0       115.0    5500.0        18          22   \n",
       "\n",
       "  city-L/100km  horsepower-binned diesel  gas  \n",
       "0    11.190476             Medium      0    1  \n",
       "1    11.190476             Medium      0    1  \n",
       "2    12.368421             Medium      0    1  \n",
       "3     9.791667             Medium      0    1  \n",
       "4    13.055556             Medium      0    1  \n",
       "\n",
       "[5 rows x 30 columns]"
      ]
     },
     "execution_count": 7,
     "metadata": {},
     "output_type": "execute_result"
    }
   ],
   "source": [
    "# everything except price\n",
    "x_data = df.drop('price',axis=1) # predictors\n",
    "x_data.head()"
   ]
  },
  {
   "cell_type": "code",
   "execution_count": 8,
   "metadata": {},
   "outputs": [
    {
     "name": "stdout",
     "output_type": "stream",
     "text": [
      "number of actual samples: 201\n",
      "number of test samples : 21\n",
      "number of training samples: 180\n"
     ]
    }
   ],
   "source": [
    "# imported train_test_split() \n",
    "x_train, x_test, y_train, y_test = train_test_split(x_data, \n",
    "                                                    y_data, \n",
    "                                                    test_size=0.10, \n",
    "                                                    random_state=1)\n",
    "\n",
    "print(\"number of actual samples:\",df.shape[0])\n",
    "print(\"number of test samples :\", x_test.shape[0]) #10%\n",
    "print(\"number of training samples:\",x_train.shape[0]) #90%"
   ]
  },
  {
   "cell_type": "markdown",
   "metadata": {},
   "source": [
    "### 1b. Get stats and predicted output from hold-out split"
   ]
  },
  {
   "cell_type": "code",
   "execution_count": 9,
   "metadata": {},
   "outputs": [
    {
     "name": "stdout",
     "output_type": "stream",
     "text": [
      "MSE of test data: 14091543.945665745\n",
      "r_squared of test data: 0.36358755750788263\n",
      "predicted output of test data:\n",
      " [12181.59430333  7169.77316037  9934.91585993  8552.34451015\n",
      " 15465.20125905]\n"
     ]
    }
   ],
   "source": [
    "# lineaer regression object\n",
    "lm = LinearRegression()\n",
    "\n",
    "# fit model with training data\n",
    "lm.fit(x_train[['horsepower']], y_train)\n",
    "\n",
    "# r^2 of test data\n",
    "r_squared = lm.score(x_test[['horsepower']], y_test)\n",
    "\n",
    "# r^2 of training data\n",
    "r_squared2 = lm.score(x_train[['horsepower']], y_train)\n",
    "\n",
    "# predict output\n",
    "Yhat=lm.predict(x_test[['horsepower']])\n",
    "\n",
    "# MSE of test data\n",
    "MSE = mean_squared_error(y_test, Yhat)\n",
    "\n",
    "print(\"MSE of test data:\", MSE)\n",
    "print(\"r_squared of test data:\", r_squared)\n",
    "print(\"predicted output of test data:\\n\", Yhat[0:5])"
   ]
  },
  {
   "cell_type": "code",
   "execution_count": 10,
   "metadata": {},
   "outputs": [
    {
     "name": "stdout",
     "output_type": "stream",
     "text": [
      "We can also observe that r_squared of test data much smaller than training data\n",
      "r_squared of test data: 0.36358755750788263\n",
      "r_squared of training data: 0.6619724197515104\n"
     ]
    }
   ],
   "source": [
    "print(\"We can also observe that r_squared of test data much smaller than training data\")\n",
    "print(\"r_squared of test data:\", r_squared)\n",
    "print(\"r_squared of training data:\", r_squared2)"
   ]
  },
  {
   "cell_type": "markdown",
   "metadata": {},
   "source": [
    "### 2a. Cross validation - K-Folds / Leave One Out\n",
    "Sometimes you do not have sufficient testing data; as a result, you may want to perform Cross-validation.\n",
    "Then get statistical value from the estimated score after."
   ]
  },
  {
   "cell_type": "markdown",
   "metadata": {},
   "source": [
    "cross validation process did not show here, just **jump in straight to the result score**"
   ]
  },
  {
   "cell_type": "code",
   "execution_count": 11,
   "metadata": {},
   "outputs": [],
   "source": [
    "lm = LinearRegression()"
   ]
  },
  {
   "cell_type": "code",
   "execution_count": 12,
   "metadata": {},
   "outputs": [
    {
     "data": {
      "text/plain": [
       "array([0.7746232 , 0.51716687, 0.74785353, 0.04839605])"
      ]
     },
     "execution_count": 12,
     "metadata": {},
     "output_type": "execute_result"
    }
   ],
   "source": [
    "# imported cross_val_score()\n",
    "# each element in the array has the average R^2 value in the fold:\n",
    "Rcross = cross_val_score(lm, x_data[['horsepower']], y_data, cv=4)\n",
    "Rcross "
   ]
  },
  {
   "cell_type": "code",
   "execution_count": 13,
   "metadata": {},
   "outputs": [
    {
     "data": {
      "text/plain": [
       "array([20254142.84026702, 43745493.2650517 , 12539630.34014931,\n",
       "       17561927.7224759 ])"
      ]
     },
     "execution_count": 13,
     "metadata": {},
     "output_type": "execute_result"
    }
   ],
   "source": [
    "# multiply by -1 to get back the positive metric\n",
    "MSEcross = -1 * cross_val_score(lm, \n",
    "                x_data[['horsepower']], \n",
    "                y_data, \n",
    "                cv=4, \n",
    "                scoring='neg_mean_squared_error') #simply means negation (due to API)\n",
    "\n",
    "MSEcross"
   ]
  },
  {
   "cell_type": "markdown",
   "metadata": {},
   "source": [
    "### 2b. Get stats and prediction of output from cross validation\n",
    "We can calculate the average of our estimate"
   ]
  },
  {
   "cell_type": "code",
   "execution_count": 14,
   "metadata": {},
   "outputs": [
    {
     "name": "stdout",
     "output_type": "stream",
     "text": [
      "mean of R squared of cross validation: 0.522009915042119\n"
     ]
    }
   ],
   "source": [
    "print('mean of R squared of cross validation:',Rcross.mean())"
   ]
  },
  {
   "cell_type": "code",
   "execution_count": 15,
   "metadata": {},
   "outputs": [
    {
     "name": "stdout",
     "output_type": "stream",
     "text": [
      "mean of MSE of cross validation: 23525298.541985985\n"
     ]
    }
   ],
   "source": [
    "print('mean of MSE of cross validation:',MSEcross.mean())"
   ]
  },
  {
   "cell_type": "markdown",
   "metadata": {},
   "source": [
    "We can also use the function `cross_val_predict` to predict the output. The function splits up the data into the specified number of folds, using one fold for testing and the other folds are used for training."
   ]
  },
  {
   "cell_type": "code",
   "execution_count": 16,
   "metadata": {},
   "outputs": [
    {
     "name": "stdout",
     "output_type": "stream",
     "text": [
      "predicted output [14141.63807508 14141.63807508 20814.29423473 12745.03562306\n",
      " 14762.35027598]\n"
     ]
    }
   ],
   "source": [
    "yhatcross = cross_val_predict(lm, x_data[['horsepower']], y_data, cv=4)\n",
    "print (\"predicted output\", yhatcross[0:5])"
   ]
  },
  {
   "cell_type": "markdown",
   "metadata": {},
   "source": [
    "### Observation"
   ]
  },
  {
   "cell_type": "markdown",
   "metadata": {},
   "source": [
    "Cross-validation is usually the preferred method because it gives your model the opportunity to train on multiple train-test splits. This gives you a better indication of how well your model will perform on unseen data. Hold-out, on the other hand, is dependent on just one train-test split. That makes the hold-out method score dependent on how the data is split into train and test sets.\n",
    "\n",
    "One oberservatuion is that the r squared of cross validation is better than the hold-on"
   ]
  },
  {
   "cell_type": "markdown",
   "metadata": {},
   "source": [
    "## Part 2: Overfitting, Underfitting and Model Selection\n",
    "It turns out that the test data sometimes referred to as the out of sample data is a much better measure of how well your model performs in the real world. One reason for this is <span style='background :blue'>overfitting</span>; let's go over some examples. It turns out these differences are more apparent in <span style='background :blue'> Multiple Linear Regression</span> and <span style='background :blue' > Polynomial Regression</span> so we will explore overfitting in that context.\n",
    "\n",
    "Let's create Multiple linear regression objects, <span style='background :blue' >train the model</span> using `'horsepower'`, `'curb-weight'`, `'engine-size'` and `'highway-mpg'` as features"
   ]
  },
  {
   "cell_type": "markdown",
   "metadata": {},
   "source": [
    "### Multiple linear regression model"
   ]
  },
  {
   "cell_type": "code",
   "execution_count": 17,
   "metadata": {},
   "outputs": [
    {
     "data": {
      "text/plain": [
       "LinearRegression()"
      ]
     },
     "execution_count": 17,
     "metadata": {},
     "output_type": "execute_result"
    }
   ],
   "source": [
    "lr = LinearRegression()\n",
    "lr.fit(x_train[['horsepower', 'curb-weight', \n",
    "                'engine-size','highway-mpg']], y_train)"
   ]
  },
  {
   "cell_type": "markdown",
   "metadata": {},
   "source": [
    "#### A. Predict output using training data"
   ]
  },
  {
   "cell_type": "code",
   "execution_count": 18,
   "metadata": {},
   "outputs": [
    {
     "data": {
      "text/plain": [
       "array([ 7426.6731551 , 28323.75090803, 14213.38819709,  4052.34146983,\n",
       "       34500.19124244])"
      ]
     },
     "execution_count": 18,
     "metadata": {},
     "output_type": "execute_result"
    }
   ],
   "source": [
    "yhat_train = lr.predict(x_train[['horsepower', 'curb-weight', \n",
    "                                 'engine-size','highway-mpg']])\n",
    "yhat_train[0:5]"
   ]
  },
  {
   "cell_type": "markdown",
   "metadata": {},
   "source": [
    "#### B. Predict output using test data"
   ]
  },
  {
   "cell_type": "code",
   "execution_count": 19,
   "metadata": {},
   "outputs": [
    {
     "data": {
      "text/plain": [
       "array([11349.35089149,  5884.11059106, 11208.6928275 ,  6641.07786278,\n",
       "       15565.79920282])"
      ]
     },
     "execution_count": 19,
     "metadata": {},
     "output_type": "execute_result"
    }
   ],
   "source": [
    "yhat_test = lr.predict(x_test[['horsepower', 'curb-weight', \n",
    "                               'engine-size', 'highway-mpg']])\n",
    "yhat_test[0:5]"
   ]
  },
  {
   "cell_type": "markdown",
   "metadata": {},
   "source": [
    "#### C. Function for distribution plot"
   ]
  },
  {
   "cell_type": "code",
   "execution_count": 20,
   "metadata": {},
   "outputs": [],
   "source": [
    "def DistributionPlot(RedFunction, BlueFunction, RedName, BlueName, Title):\n",
    "    width = 12\n",
    "    height = 10\n",
    "    plt.figure(figsize=(width,height))\n",
    "    \n",
    "    ax1 = sns.kdeplot(RedFunction, color=\"r\", label=RedName)\n",
    "    ax2 = sns.kdeplot(BlueFunction, color=\"b\", label=BlueName, ax=ax1)\n",
    "    \n",
    "    plt.title(Title, pad=20)\n",
    "    plt.xlabel('Price (in dollars)')\n",
    "    plt.ylabel('Proportion of Cars')\n",
    "    plt.legend()\n",
    "\n",
    "    plt.show()\n",
    "    plt.close()"
   ]
  },
  {
   "cell_type": "markdown",
   "metadata": {},
   "source": [
    "#### D. Examine distribution plot of predicted train data vs actual train data"
   ]
  },
  {
   "cell_type": "code",
   "execution_count": 21,
   "metadata": {
    "scrolled": true,
    "tags": []
   },
   "outputs": [
    {
     "data": {
      "image/png": "[encoded data removed]",
      "text/plain": [
       "<Figure size 864x720 with 1 Axes>"
      ]
     },
     "metadata": {},
     "output_type": "display_data"
    }
   ],
   "source": [
    "Title = 'Distribution Plot of Predicted Training Data vs Actual Training Data'\n",
    "DistributionPlot(y_train, yhat_train, \"Actual Values (Train)\", \"Predicted Values (Train)\", Title)"
   ]
  },
  {
   "cell_type": "markdown",
   "metadata": {},
   "source": [
    "So far the model seems to be doing well in learning from the training dataset. But what happens when the model encounters new data from the testing dataset? When the model generates new values from the test data, we see the distribution of the predicted values is much different from the actual target values."
   ]
  },
  {
   "cell_type": "markdown",
   "metadata": {},
   "source": [
    "#### E. Examine distribution plot of predicted test data vs actual test data"
   ]
  },
  {
   "cell_type": "code",
   "execution_count": 22,
   "metadata": {
    "scrolled": true,
    "tags": []
   },
   "outputs": [
    {
     "data": {
      "image/png": "[encoded data removed]",
      "text/plain": [
       "<Figure size 864x720 with 1 Axes>"
      ]
     },
     "metadata": {},
     "output_type": "display_data"
    }
   ],
   "source": [
    "Title='Distribution Plot of Predicted Test Data vs Actual Test data'\n",
    "DistributionPlot(y_test,yhat_test,\"Actual Values (Test)\",\"Predicted Values (Test)\",Title)"
   ]
  },
  {
   "cell_type": "markdown",
   "metadata": {},
   "source": [
    "#### F. Conclusion"
   ]
  },
  {
   "cell_type": "markdown",
   "metadata": {},
   "source": [
    "The model does not perform closely as the actual data when predicting test (real) data"
   ]
  },
  {
   "cell_type": "markdown",
   "metadata": {},
   "source": [
    "### Simple polynomial regression model \n",
    "Overfitting occurs when the model fits the noise, not the underlying process. Therefore when testing your model using the test-set, your model does not perform as well as it is modelling noise, not the underlying process that generated the relationship. "
   ]
  },
  {
   "cell_type": "markdown",
   "metadata": {},
   "source": [
    "#### A.Produce overfitted model\n",
    "Split data and fit model with high polynomial degree = 5\n",
    "- 55% for training\n",
    "- 45% for testing"
   ]
  },
  {
   "cell_type": "code",
   "execution_count": 23,
   "metadata": {},
   "outputs": [],
   "source": [
    "x_train, x_test, y_train, y_test = train_test_split(x_data, \n",
    "                                                    y_data, \n",
    "                                                    test_size=0.45,\n",
    "                                                    random_state=0)"
   ]
  },
  {
   "cell_type": "markdown",
   "metadata": {},
   "source": [
    "We will perform a degree 5 polynomial transformation on the feature 'horse power'."
   ]
  },
  {
   "cell_type": "code",
   "execution_count": 24,
   "metadata": {},
   "outputs": [],
   "source": [
    "pr = PolynomialFeatures(degree=5)\n",
    "x_train_pr = pr.fit_transform(x_train[['horsepower']])\n",
    "x_test_pr = pr.fit_transform(x_test[['horsepower']])"
   ]
  },
  {
   "cell_type": "markdown",
   "metadata": {},
   "source": [
    "Fit model with training data"
   ]
  },
  {
   "cell_type": "code",
   "execution_count": 25,
   "metadata": {},
   "outputs": [
    {
     "data": {
      "text/plain": [
       "LinearRegression()"
      ]
     },
     "execution_count": 25,
     "metadata": {},
     "output_type": "execute_result"
    }
   ],
   "source": [
    "poly = LinearRegression()\n",
    "poly.fit(x_train_pr, y_train)"
   ]
  },
  {
   "cell_type": "markdown",
   "metadata": {},
   "source": [
    "#### B. Predict output of using test data"
   ]
  },
  {
   "cell_type": "code",
   "execution_count": 26,
   "metadata": {},
   "outputs": [
    {
     "name": "stdout",
     "output_type": "stream",
     "text": [
      "Predicted test data: [ 6728.65566037  7307.9878638  12213.7877412  18893.24796457]\n",
      "True test data: [ 6295. 10698. 13860. 13499.]\n"
     ]
    }
   ],
   "source": [
    "yhat_test_pr = poly.predict(x_test_pr)\n",
    "\n",
    "print(\"Predicted test data:\", yhat_test_pr[0:4])\n",
    "print(\"True test data:\", y_test[0:4].values)"
   ]
  },
  {
   "cell_type": "markdown",
   "metadata": {},
   "source": [
    "#### C. Function for simple polynomial plot"
   ]
  },
  {
   "cell_type": "code",
   "execution_count": 27,
   "metadata": {},
   "outputs": [],
   "source": [
    "def PollyPlot(x_train, x_test, y_train, y_test, lm, poly_transform):\n",
    "    width = 12\n",
    "    height = 10\n",
    "    plt.figure(figsize=(width, height))\n",
    "    \n",
    "    # getting largest ans smallest train and test predictor\n",
    "    xmax = max([x_train.values.max(), x_test.values.max()])\n",
    "    xmin = min([x_train.values.min(), x_test.values.min()])\n",
    "    \n",
    "    # plot training and test data \n",
    "    plt.plot(x_train, y_train, 'ro', label=' Training data')\n",
    "    plt.plot(x_test, y_test, 'go', label=' Test data')\n",
    "    \n",
    "    # create data to fit function\n",
    "    x = np.arange(xmin, xmax, 0.1)\n",
    "    # plot a real polynomialfunction for better visualization\n",
    "    plt.plot(x, lm.predict(poly_transform.fit_transform(x.reshape(-1,1))),\n",
    "             color='blue', label='Predicted Function') \n",
    "    \n",
    "    plt.ylim([-10000, 60000])\n",
    "    plt.ylabel('Price')\n",
    "    plt.legend()\n",
    "    \n",
    "    plt.show()\n",
    "    plt.close()"
   ]
  },
  {
   "cell_type": "markdown",
   "metadata": {},
   "source": [
    "#### E. Examine polynomial plot of actual training data vs actual test data "
   ]
  },
  {
   "cell_type": "markdown",
   "metadata": {},
   "source": [
    "We see that the estimated function appears to track the data but around 200 horsepower, the function begins to diverge from the data points."
   ]
  },
  {
   "cell_type": "code",
   "execution_count": 28,
   "metadata": {
    "scrolled": true,
    "tags": []
   },
   "outputs": [
    {
     "data": {
      "image/png": "[encoded data removed]",
      "text/plain": [
       "<Figure size 864x720 with 1 Axes>"
      ]
     },
     "metadata": {},
     "output_type": "display_data"
    }
   ],
   "source": [
    "PollyPlot(x_train[['horsepower']], x_test[['horsepower']],\n",
    "         y_train, y_test, poly, pr)"
   ]
  },
  {
   "cell_type": "markdown",
   "metadata": {},
   "source": [
    "#### F. Sign of overfitting\n",
    "We see the R^2 for the training data is 0.5567 while the R^2 on the test data was -29.87. The lower the R^2, the worse the model. <br>\n",
    "A Negative R^2 is a sign of overfitting."
   ]
  },
  {
   "cell_type": "code",
   "execution_count": 29,
   "metadata": {},
   "outputs": [
    {
     "name": "stdout",
     "output_type": "stream",
     "text": [
      "r-squared of training data: 0.5567716902121724\n",
      "r-squared of test data: -29.871340540625788\n"
     ]
    }
   ],
   "source": [
    "print (\"r-squared of training data:\", poly.score(x_train_pr,y_train))\n",
    "print (\"r-squared of test data:\", poly.score(x_test_pr,y_test))"
   ]
  },
  {
   "cell_type": "markdown",
   "metadata": {},
   "source": [
    "#### G. Plot R-squared vs polynomial order\n",
    "We see the R^2 gradually increases until an order three polynomial is used. Then the R^2 dramatically decreases at four."
   ]
  },
  {
   "cell_type": "code",
   "execution_count": 30,
   "metadata": {},
   "outputs": [
    {
     "data": {
      "image/png": "[encoded data removed]",
      "text/plain": [
       "<Figure size 432x288 with 1 Axes>"
      ]
     },
     "metadata": {},
     "output_type": "display_data"
    }
   ],
   "source": [
    "Rsqu_test = []\n",
    "order = np.arange(1,5,1) # start 1, stop 5, step 1\n",
    "\n",
    "for n in order:\n",
    "    pf = PolynomialFeatures(degree=n)\n",
    "    \n",
    "    # transform data to polynomial\n",
    "    x_train_pf = pf.fit_transform(x_train[['horsepower']])\n",
    "    x_test_pf = pf.fit_transform(x_test[['horsepower']])\n",
    "    \n",
    "    # fit model with linear regression\n",
    "    lm.fit(x_train_pf, y_train)\n",
    "    \n",
    "    Rsqu_test.append(lm.score(x_test_pf, y_test))\n",
    "    \n",
    "plt.plot(order, Rsqu_test)\n",
    "plt.xlabel('order')\n",
    "plt.ylabel('R^2')    \n",
    "plt.title('R^2 of test data vs polynimial order')\n",
    "# maximum r-squared at (3,0.75)\n",
    "plt.text(3, 0.75, 'Maximum R^2 ')  \n",
    "\n",
    "plt.show()\n",
    "plt.close()"
   ]
  },
  {
   "cell_type": "markdown",
   "metadata": {},
   "source": [
    "#### H. interactive simple polynomial plot - different order + test_data proportion"
   ]
  },
  {
   "cell_type": "markdown",
   "metadata": {},
   "source": [
    "Function for data prep + call Pollyplot()"
   ]
  },
  {
   "cell_type": "code",
   "execution_count": 31,
   "metadata": {},
   "outputs": [],
   "source": [
    "def f(order, test_data):\n",
    "    # 1. split data \n",
    "    x_train, x_test, y_train, y_test = train_test_split(x_data, \n",
    "                                                        y_data, \n",
    "                                                        test_size=test_data, \n",
    "                                                        random_state=0)\n",
    "    # 2. create obj to set polynomial order \n",
    "    pr = PolynomialFeatures(degree=order)\n",
    "    \n",
    "    # 3. transform training and test data to polynomial\n",
    "    x_train_pr = pr.fit_transform(x_train[['horsepower']])\n",
    "    x_test_pr = pr.fit_transform(x_test[['horsepower']])\n",
    "    \n",
    "    # 4. Fit model with linear regression\n",
    "    poly = LinearRegression()\n",
    "    poly.fit(x_train_pr,y_train)\n",
    "    \n",
    "    # 5. Call plotting function defined earlier\n",
    "    PollyPlot(x_train[['horsepower']], x_test[['horsepower']], y_train,y_test, poly, pr)"
   ]
  },
  {
   "cell_type": "code",
   "execution_count": 32,
   "metadata": {
    "scrolled": true,
    "tags": []
   },
   "outputs": [
    {
     "data": {
      "application/vnd.jupyter.widget-view+json": {
       "model_id": "270e1894fcf74f90b50a06e6eeb79afc",
       "version_major": 2,
       "version_minor": 0
      },
      "text/plain": [
       "interactive(children=(IntSlider(value=3, description='order', max=6), FloatSlider(value=0.45, description='tes…"
      ]
     },
     "metadata": {},
     "output_type": "display_data"
    },
    {
     "data": {
      "text/plain": [
       "<function __main__.f(order, test_data)>"
      ]
     },
     "execution_count": 32,
     "metadata": {},
     "output_type": "execute_result"
    }
   ],
   "source": [
    "interact(f, order=(0, 6, 1), test_data=(0.05, 0.95, 0.05)) # order/test_data=(min,max,step)"
   ]
  },
  {
   "cell_type": "markdown",
   "metadata": {},
   "source": [
    "#### I. Conclusion\n",
    "the model best fit will polynomial order=3 which gives the best r squared without overfitting"
   ]
  },
  {
   "cell_type": "markdown",
   "metadata": {},
   "source": [
    "### Multiple polynomial regerssion model \n",
    "We can perform polynomial transformations with more than one feature"
   ]
  },
  {
   "cell_type": "code",
   "execution_count": 33,
   "metadata": {},
   "outputs": [],
   "source": [
    "pr1 = PolynomialFeatures(degree=2)"
   ]
  },
  {
   "cell_type": "code",
   "execution_count": 34,
   "metadata": {},
   "outputs": [],
   "source": [
    "x_train_pr1 = pr1.fit_transform(x_train[['horsepower', 'curb-weight', \n",
    "                               'engine-size', 'highway-mpg']])\n",
    "\n",
    "x_test_pr1 = pr1.fit_transform(x_test[['horsepower', 'curb-weight',\n",
    "                                       'engine-size', 'highway-mpg']])"
   ]
  },
  {
   "cell_type": "code",
   "execution_count": 35,
   "metadata": {},
   "outputs": [
    {
     "name": "stdout",
     "output_type": "stream",
     "text": [
      "dimension of new features added: (110, 15)\n",
      "dimension of new features added: (91, 15)\n"
     ]
    }
   ],
   "source": [
    "# 15 columns after new features introduced\n",
    "print ('dimension of new features added:', x_train_pr1.shape)\n",
    "print ('dimension of new features added:', x_test_pr1.shape)"
   ]
  },
  {
   "cell_type": "code",
   "execution_count": 36,
   "metadata": {},
   "outputs": [],
   "source": [
    "poly1 = LinearRegression().fit(x_train_pr1,y_train)"
   ]
  },
  {
   "cell_type": "code",
   "execution_count": 37,
   "metadata": {
    "scrolled": true,
    "tags": []
   },
   "outputs": [
    {
     "data": {
      "image/png": "[encoded data removed]",
      "text/plain": [
       "<Figure size 864x720 with 1 Axes>"
      ]
     },
     "metadata": {},
     "output_type": "display_data"
    }
   ],
   "source": [
    "yhat_test1 = poly1.predict(x_test_pr1)\n",
    "\n",
    "Title='Distribution  Plot of Predicted Value Using Test Data vs Data Distribution of Test Data'\n",
    "xlabel = 'Predicted Values (Test)'\n",
    "ylabel = 'Actual Values (Test)'\n",
    "DistributionPlot(y_test, yhat_test1, ylabel, xlabel, Title)"
   ]
  },
  {
   "cell_type": "markdown",
   "metadata": {},
   "source": [
    "Observation:\n",
    "1. The predicted value is higher than actual value for cars where the price around 10,000 \n",
    "2. Conversely the predicted price is lower than the price cost in the 30,000 to 40,000 range. As such the model is not as accurate in these ranges."
   ]
  },
  {
   "cell_type": "markdown",
   "metadata": {},
   "source": [
    "Conclusion:<br>\n",
    "Above model can be more accurate"
   ]
  },
  {
   "cell_type": "markdown",
   "metadata": {},
   "source": [
    "## Part 3: Ridge regression\n",
    "In this section, we will review Ridge Regression we will see how the parameter Alpha changes the model. Just a note here our test data will be used as validation data.\n"
   ]
  },
  {
   "cell_type": "markdown",
   "metadata": {},
   "source": [
    "### Multiple polynomial regerssion as example"
   ]
  },
  {
   "cell_type": "markdown",
   "metadata": {},
   "source": [
    "#### use `Ridge()`"
   ]
  },
  {
   "cell_type": "markdown",
   "metadata": {},
   "source": [
    "Alternatively can split by cross validation"
   ]
  },
  {
   "cell_type": "markdown",
   "metadata": {},
   "source": [
    "##### 1. Transform data to polynomial"
   ]
  },
  {
   "cell_type": "code",
   "execution_count": 38,
   "metadata": {},
   "outputs": [],
   "source": [
    "pr = PolynomialFeatures(degree=2)\n",
    "\n",
    "x_train_pr=pr.fit_transform(x_train[['horsepower', 'curb-weight', \n",
    "                                     'engine-size', 'highway-mpg',\n",
    "                                     'normalized-losses','symboling']])\n",
    "x_test_pr=pr.fit_transform(x_test[['horsepower', 'curb-weight', \n",
    "                                   'engine-size', 'highway-mpg',\n",
    "                                   'normalized-losses','symboling']])"
   ]
  },
  {
   "cell_type": "markdown",
   "metadata": {},
   "source": [
    "##### 2. Ridge model - fitting model with range of alpha \n",
    "- Loop through list of alpha\n",
    "- use the iterable alpha to fit model and get corresponsding R squared"
   ]
  },
  {
   "cell_type": "code",
   "execution_count": 39,
   "metadata": {},
   "outputs": [],
   "source": [
    "Rsqu_test = []\n",
    "Rsqu_train = []\n",
    "\n",
    "Alpha = np.array(range(0,10000,10))\n",
    "\n",
    "for alpha in Alpha:\n",
    "    RidgeModel = Ridge(alpha=alpha) \n",
    "    RidgeModel.fit(x_train_pr, y_train)\n",
    "    Rsqu_test.append(RidgeModel.score(x_test_pr, y_test))\n",
    "    Rsqu_train.append(RidgeModel.score(x_train_pr, y_train))"
   ]
  },
  {
   "cell_type": "markdown",
   "metadata": {},
   "source": [
    "##### 3. Plot r^2 vs alpha\n",
    "The red line in figure 6 represents the R^2 of the training data.\n",
    "As Alpha increases the R^2 decreases.\n",
    "Therefore as Alpha increases the model performs worse on the training data.\n",
    "\n",
    "The blue line represents the R^2 on the validation data.\n",
    "As the value for Alpha increases the R^2 increases and converges at a point"
   ]
  },
  {
   "cell_type": "code",
   "execution_count": 40,
   "metadata": {
    "scrolled": true,
    "tags": []
   },
   "outputs": [
    {
     "data": {
      "image/png": "[encoded data removed]",
      "text/plain": [
       "<Figure size 864x720 with 1 Axes>"
      ]
     },
     "metadata": {},
     "output_type": "display_data"
    }
   ],
   "source": [
    "width = 12\n",
    "height = 10\n",
    "plt.figure(figsize=(width, height))\n",
    "\n",
    "plt.plot(Alpha,Rsqu_test,'b', label='validation data  ')\n",
    "plt.plot(Alpha,Rsqu_train, 'r', label='training Data ')\n",
    "plt.xlabel('alpha')\n",
    "plt.ylabel('R^2')\n",
    "plt.legend()\n",
    "\n",
    "plt.show()\n",
    "plt.close()"
   ]
  },
  {
   "cell_type": "markdown",
   "metadata": {},
   "source": [
    "##### 4. Conclusion\n",
    "The best parameter alpha seems to be alpha=60 where r squared is the max before it converges"
   ]
  },
  {
   "cell_type": "code",
   "execution_count": 41,
   "metadata": {
    "scrolled": true,
    "tags": []
   },
   "outputs": [
    {
     "data": {
      "text/plain": [
       "[0.47098332869277415,\n",
       " 0.5418576440206702,\n",
       " 0.5451713713358624,\n",
       " 0.5467785284274531,\n",
       " 0.5475411380779326,\n",
       " 0.5478376463295208,\n",
       " 0.5478634565809117,\n",
       " 0.5477279952084486,\n",
       " 0.5474959012800544,\n",
       " 0.5472068417850702,\n",
       " 0.5468858434130563,\n",
       " 0.546549007941733,\n",
       " 0.5462068240642888,\n",
       " 0.54586616022798,\n",
       " 0.545531501972274,\n",
       " 0.5452057407314385,\n",
       " 0.5448906880938548,\n",
       " 0.5445874175389401,\n",
       " 0.5442964952511469,\n",
       " 0.5440181381791017,\n",
       " 0.5437523235248485,\n",
       " 0.5434988653069573,\n",
       " 0.5432574682939761,\n",
       " 0.5430277662008909,\n",
       " 0.5428093488254799,\n",
       " 0.5426017813419219,\n",
       " 0.5424046179904237,\n",
       " 0.5422174117375795,\n",
       " 0.5420397210234296,\n",
       " 0.541871114397376,\n",
       " 0.5417111736167961,\n",
       " 0.5415594956303762,\n",
       " 0.5414156937483882,\n",
       " 0.5412793982270381,\n",
       " 0.5411502564291217,\n",
       " 0.5410279326856838,\n",
       " 0.5409121079449447,\n",
       " 0.5408024792793256,\n",
       " 0.5406987592966659,\n",
       " 0.5406006754929212,\n",
       " 0.5405079695735975,\n",
       " 0.5404203967628392,\n",
       " 0.5403377251137287,\n",
       " 0.5402597348313287,\n",
       " 0.5401862176137446,\n",
       " 0.5401169760169675,\n",
       " 0.5400518228457973,\n",
       " 0.5399905805735421,\n",
       " 0.5399330807902263,\n",
       " 0.5398791636800561,\n",
       " 0.5398286775278089,\n",
       " 0.5397814782530902,\n",
       " 0.5397374289716427,\n",
       " 0.5396963995828098,\n",
       " 0.5396582663819387,\n",
       " 0.5396229116958093,\n",
       " 0.5395902235408309,\n",
       " 0.5395600953022426,\n",
       " 0.5395324254329203,\n",
       " 0.539507117170654,\n",
       " 0.5394840782734409,\n",
       " 0.5394632207704433,\n",
       " 0.5394444607287738,\n",
       " 0.5394277180344027,\n",
       " 0.5394129161867904,\n",
       " 0.539399982105327,\n",
       " 0.5393888459483477,\n",
       " 0.5393794409424919,\n",
       " 0.5393717032228773,\n",
       " 0.5393655716819321,\n",
       " 0.5393609878284783,\n",
       " 0.5393578956537864,\n",
       " 0.5393562415062347,\n",
       " 0.5393559739737022,\n",
       " 0.5393570437713568,\n",
       " 0.5393594036376081,\n",
       " 0.5393630082342593,\n",
       " 0.5393678140539193,\n",
       " 0.5393737793315531,\n",
       " 0.5393808639615238,\n",
       " 0.539389029418631,\n",
       " 0.5393982386843661,\n",
       " 0.5394084561764272,\n",
       " 0.5394196476824881,\n",
       " 0.5394317802971866,\n",
       " 0.5394448223630475,\n",
       " 0.5394587434136637,\n",
       " 0.5394735141208997,\n",
       " 0.5394891062439832,\n",
       " 0.5395054925817154,\n",
       " 0.5395226469269399,\n",
       " 0.5395405440234085,\n",
       " 0.5395591595249042,\n",
       " 0.5395784699563911,\n",
       " 0.5395984526766635,\n",
       " 0.539619085843826,\n",
       " 0.539640348381435,\n",
       " 0.5396622199469755,\n",
       " 0.5396846809015603,\n",
       " 0.5397077122810152,\n",
       " 0.5397312957688778,\n",
       " 0.5397554136699279,\n",
       " 0.5397800488854243,\n",
       " 0.5398051848896099,\n",
       " 0.5398308057067787,\n",
       " 0.5398568958900185,\n",
       " 0.5398834405004218,\n",
       " 0.5399104250877365,\n",
       " 0.5399378356711717,\n",
       " 0.5399656587219247,\n",
       " 0.539993881145864,\n",
       " 0.5400224902671156,\n",
       " 0.5400514738128208,\n",
       " 0.5400808198975802,\n",
       " 0.5401105170096854,\n",
       " 0.5401405539971201,\n",
       " 0.5401709200545008,\n",
       " 0.5402016047108686,\n",
       " 0.5402325978170641,\n",
       " 0.540263889534841,\n",
       " 0.5402954703254448,\n",
       " 0.5403273309390341,\n",
       " 0.5403594624048793,\n",
       " 0.5403918560212475,\n",
       " 0.5404245033463349,\n",
       " 0.5404573961892002,\n",
       " 0.5404905266013506,\n",
       " 0.5405238868680982,\n",
       " 0.5405574695009987,\n",
       " 0.5405912672302955,\n",
       " 0.5406252729971674,\n",
       " 0.5406594799472249,\n",
       " 0.5406938814232536,\n",
       " 0.540728470959259,\n",
       " 0.540763242273741,\n",
       " 0.5407981892639299,\n",
       " 0.5408333059999436,\n",
       " 0.540868586719259,\n",
       " 0.540904025821439,\n",
       " 0.5409396178626187,\n",
       " 0.5409753575509685,\n",
       " 0.5410112397417631,\n",
       " 0.5410472594324927,\n",
       " 0.5410834117588688,\n",
       " 0.541119691990374,\n",
       " 0.5411560955259509,\n",
       " 0.5411926178902065,\n",
       " 0.541229254729541,\n",
       " 0.5412660018084621,\n",
       " 0.541302855005928,\n",
       " 0.541339810312003,\n",
       " 0.541376863824478,\n",
       " 0.5414140117456615,\n",
       " 0.5414512503791793,\n",
       " 0.5414885761271636,\n",
       " 0.5415259854872461,\n",
       " 0.5415634750497778,\n",
       " 0.5416010414952277,\n",
       " 0.541638681591234,\n",
       " 0.5416763921905007,\n",
       " 0.5417141702281272,\n",
       " 0.5417520127193476,\n",
       " 0.5417899167571933,\n",
       " 0.5418278795100844,\n",
       " 0.5418658982201109,\n",
       " 0.5419039702007455,\n",
       " 0.5419420928347934,\n",
       " 0.5419802635724222,\n",
       " 0.5420184799295538,\n",
       " 0.542056739485763,\n",
       " 0.5420950398827036,\n",
       " 0.5421333788221776,\n",
       " 0.5421717540647779,\n",
       " 0.542210163428174,\n",
       " 0.542248604785514,\n",
       " 0.542287076063833,\n",
       " 0.5423255752428353,\n",
       " 0.5423641003535375,\n",
       " 0.5424026494763037,\n",
       " 0.5424412207403984,\n",
       " 0.542479812322,\n",
       " 0.5425184224432593,\n",
       " 0.5425570493712495,\n",
       " 0.5425956914161666,\n",
       " 0.5426343469309496,\n",
       " 0.542673014309748,\n",
       " 0.5427116919870021,\n",
       " 0.5427503784362494,\n",
       " 0.5427890721691833,\n",
       " 0.5428277717348204,\n",
       " 0.5428664757183391,\n",
       " 0.5429051827403025,\n",
       " 0.5429438914556184,\n",
       " 0.5429826005528446,\n",
       " 0.5430213087531162,\n",
       " 0.5430600148097056,\n",
       " 0.543098717506533,\n",
       " 0.5431374156583371,\n",
       " 0.5431761081090056,\n",
       " 0.5432147937314888,\n",
       " 0.5432534714267386,\n",
       " 0.543292140123065,\n",
       " 0.5433307987755995,\n",
       " 0.5433694463655223,\n",
       " 0.5434080818994012,\n",
       " 0.5434467044087765,\n",
       " 0.5434853129491962,\n",
       " 0.5435239065999553,\n",
       " 0.5435624844633563,\n",
       " 0.543601045664234,\n",
       " 0.5436395893493525,\n",
       " 0.543678114686934,\n",
       " 0.5437166208660313,\n",
       " 0.5437551070961841,\n",
       " 0.5437935726068502,\n",
       " 0.5438320166469082,\n",
       " 0.5438704384842762,\n",
       " 0.5439088374054029,\n",
       " 0.5439472127148177,\n",
       " 0.5439855637346962,\n",
       " 0.5440238898046491,\n",
       " 0.544062190280896,\n",
       " 0.544100464536311,\n",
       " 0.5441387119598289,\n",
       " 0.5441769319560323,\n",
       " 0.5442151239449555,\n",
       " 0.5442532873614087,\n",
       " 0.5442914216550541,\n",
       " 0.5443295262897861,\n",
       " 0.5443676007433895,\n",
       " 0.5444056445075722,\n",
       " 0.5444436570870805,\n",
       " 0.5444816379998023,\n",
       " 0.5445195867765777,\n",
       " 0.544557502960243,\n",
       " 0.5445953861062193,\n",
       " 0.5446332357816783,\n",
       " 0.5446710515654238,\n",
       " 0.544708833047396,\n",
       " 0.5447465798292213,\n",
       " 0.5447842915226683,\n",
       " 0.5448219677505319,\n",
       " 0.5448596081460019,\n",
       " 0.5448972123522211,\n",
       " 0.54493478002238,\n",
       " 0.5449723108192395,\n",
       " 0.5450098044151246,\n",
       " 0.5450472604916838,\n",
       " 0.5450846787394463,\n",
       " 0.5451220588579613,\n",
       " 0.5451594005553976,\n",
       " 0.5451967035482326,\n",
       " 0.5452339675615274,\n",
       " 0.5452711923282343,\n",
       " 0.5453083775891996,\n",
       " 0.5453455230932336,\n",
       " 0.5453826285965282,\n",
       " 0.545419693862746,\n",
       " 0.5454567186626804,\n",
       " 0.5454937027745402,\n",
       " 0.5455306459829843,\n",
       " 0.5455675480800506,\n",
       " 0.5456044088637602,\n",
       " 0.5456412281392458,\n",
       " 0.5456780057175128,\n",
       " 0.5457147414158859,\n",
       " 0.5457514350580192,\n",
       " 0.5457880864732546,\n",
       " 0.5458246954967843,\n",
       " 0.5458612619695387,\n",
       " 0.5458977857379876,\n",
       " 0.5459342666541778,\n",
       " 0.5459707045751443,\n",
       " 0.5460070993636101,\n",
       " 0.5460434508868398,\n",
       " 0.5460797590175444,\n",
       " 0.5461160236331795,\n",
       " 0.5461522446158037,\n",
       " 0.5461884218524826,\n",
       " 0.5462245552344964,\n",
       " 0.5462606446578779,\n",
       " 0.546296690022766,\n",
       " 0.546332691233955,\n",
       " 0.5463686482000089,\n",
       " 0.5464045608338792,\n",
       " 0.546440429052472,\n",
       " 0.5464762527764272,\n",
       " 0.5465120319306107,\n",
       " 0.5465477664432141,\n",
       " 0.5465834562464327,\n",
       " 0.5466191012758358,\n",
       " 0.5466547014707233,\n",
       " 0.5466902567735901,\n",
       " 0.5467257671306547,\n",
       " 0.5467612324909099,\n",
       " 0.546796652807133,\n",
       " 0.5468320280348968,\n",
       " 0.5468673581329576,\n",
       " 0.5469026430631754,\n",
       " 0.5469378827901601,\n",
       " 0.5469730772816743,\n",
       " 0.5470082265080954,\n",
       " 0.5470433304426907,\n",
       " 0.5470783890615033,\n",
       " 0.5471134023429297,\n",
       " 0.5471483702682964,\n",
       " 0.5471832928212879,\n",
       " 0.5472181699880818,\n",
       " 0.5472530017573012,\n",
       " 0.5472877881199488,\n",
       " 0.5473225290694368,\n",
       " 0.5473572246011973,\n",
       " 0.5473918747132435,\n",
       " 0.5474264794054058,\n",
       " 0.547461038679887,\n",
       " 0.5474955525407735,\n",
       " 0.5475300209945007,\n",
       " 0.5475644440490552,\n",
       " 0.5475988217146777,\n",
       " 0.5476331540035371,\n",
       " 0.5476674409294389,\n",
       " 0.5477016825080976,\n",
       " 0.5477358787571887,\n",
       " 0.5477700296959191,\n",
       " 0.547804135345175,\n",
       " 0.547838195727619,\n",
       " 0.5478722108674736,\n",
       " 0.5479061807906016,\n",
       " 0.5479401055244831,\n",
       " 0.5479739850978361,\n",
       " 0.5480078195411933,\n",
       " 0.5480416088863644,\n",
       " 0.5480753531665585,\n",
       " 0.5481090524164788,\n",
       " 0.5481427066720703,\n",
       " 0.548176315970692,\n",
       " 0.5482098803509394,\n",
       " 0.5482433998527261,\n",
       " 0.5482768745170995,\n",
       " 0.5483103043864195,\n",
       " 0.5483436895040765,\n",
       " 0.5483770299147703,\n",
       " 0.5484103256643492,\n",
       " 0.5484435767994134,\n",
       " 0.5484767833682315,\n",
       " 0.5485099454194209,\n",
       " 0.5485430630032966,\n",
       " 0.5485761361705912,\n",
       " 0.5486091649733735,\n",
       " 0.5486421494645812,\n",
       " 0.5486750896978356,\n",
       " 0.5487079857280762,\n",
       " 0.548740837610904,\n",
       " 0.548773645402728,\n",
       " 0.5488064091608804,\n",
       " 0.5488391289434931,\n",
       " 0.5488718048094186,\n",
       " 0.5489044368183849,\n",
       " 0.5489370250309673,\n",
       " 0.5489695695082717,\n",
       " 0.5490020703120889,\n",
       " 0.5490345275053389,\n",
       " 0.5490669411509557,\n",
       " 0.5490993113131923,\n",
       " 0.549131638056559,\n",
       " 0.5491639214462745,\n",
       " 0.5491961615481546,\n",
       " 0.5492283584288591,\n",
       " 0.549260512155215,\n",
       " 0.5492926227948346,\n",
       " 0.5493246904160218,\n",
       " 0.5493567150872845,\n",
       " 0.5493886968779419,\n",
       " 0.5494206358576954,\n",
       " 0.5494525320967876,\n",
       " 0.5494843856658072,\n",
       " 0.5495161966359046,\n",
       " 0.5495479650788864,\n",
       " 0.5495796910664923,\n",
       " 0.5496113746713251,\n",
       " 0.5496430159663002,\n",
       " 0.5496746150245471,\n",
       " 0.5497061719199325,\n",
       " 0.5497376867263396,\n",
       " 0.5497691595182247,\n",
       " 0.5498005903702592,\n",
       " 0.5498319793576889,\n",
       " 0.5498633265557931,\n",
       " 0.5498946320403717,\n",
       " 0.5499258958874318,\n",
       " 0.5499571181733856,\n",
       " 0.549988298974792,\n",
       " 0.5500194383686452,\n",
       " 0.5500505364320769,\n",
       " 0.5500815932425036,\n",
       " 0.55011260887764,\n",
       " 0.5501435834154147,\n",
       " 0.5501745169340422,\n",
       " 0.5502054095117359,\n",
       " 0.550236261227225,\n",
       " 0.55026707215926,\n",
       " 0.5502978423868934,\n",
       " 0.550328571989267,\n",
       " 0.5503592610457939,\n",
       " 0.5503899096357487,\n",
       " 0.5504205178391236,\n",
       " 0.5504510857356968,\n",
       " 0.5504816134054198,\n",
       " 0.550512100928445,\n",
       " 0.5505425483850989,\n",
       " 0.5505729558557342,\n",
       " 0.5506033234208736,\n",
       " 0.5506336511611156,\n",
       " 0.5506639391572751,\n",
       " 0.550694187490328,\n",
       " 0.5507243962409736,\n",
       " 0.5507545654904042,\n",
       " 0.5507846953196162,\n",
       " 0.5508147858099002,\n",
       " 0.550844837042471,\n",
       " 0.5508748490986997,\n",
       " 0.5509048220598983,\n",
       " 0.5509347560075206,\n",
       " 0.5509646510230488,\n",
       " 0.5509945071880993,\n",
       " 0.5510243245842509,\n",
       " 0.5510541032929037,\n",
       " 0.5510838433958452,\n",
       " 0.5511135449747032,\n",
       " 0.5511432081111329,\n",
       " 0.5511728328868448,\n",
       " 0.551202419383455,\n",
       " 0.5512319676826964,\n",
       " 0.5512614778663256,\n",
       " 0.5512909500159355,\n",
       " 0.5513203842132857,\n",
       " 0.551349780539977,\n",
       " 0.5513791390777654,\n",
       " 0.5514084599082023,\n",
       " 0.5514377431129163,\n",
       " 0.5514669887733652,\n",
       " 0.5514961969713157,\n",
       " 0.5515253677881177,\n",
       " 0.551554501305275,\n",
       " 0.5515835976043264,\n",
       " 0.5516126567665224,\n",
       " 0.5516416788732452,\n",
       " 0.5516706640057019,\n",
       " 0.5516996122452406,\n",
       " 0.5517285236729607,\n",
       " 0.5517573983699153,\n",
       " 0.551786236417243,\n",
       " 0.5518150378958111,\n",
       " 0.551843802886648,\n",
       " 0.551872531470487,\n",
       " 0.5519012237280241,\n",
       " 0.5519298797399912,\n",
       " 0.5519584995870049,\n",
       " 0.5519870833495011,\n",
       " 0.5520156311079065,\n",
       " 0.5520441429425468,\n",
       " 0.5520726189336289,\n",
       " 0.5521010591613855,\n",
       " 0.5521294637057326,\n",
       " 0.5521578326466906,\n",
       " 0.5521861660641323,\n",
       " 0.5522144640377058,\n",
       " 0.5522427266470498,\n",
       " 0.5522709539716562,\n",
       " 0.5522991460910736,\n",
       " 0.5523273030844842,\n",
       " 0.5523554250311871,\n",
       " 0.5523835120100635,\n",
       " 0.552411564100254,\n",
       " 0.5524395813805226,\n",
       " 0.5524675639295709,\n",
       " 0.5524955118259909,\n",
       " 0.5525234251483527,\n",
       " 0.5525513039748751,\n",
       " 0.5525791483838316,\n",
       " 0.55260695845331,\n",
       " 0.5526347342612336,\n",
       " 0.5526624758854761,\n",
       " 0.5526901834037117,\n",
       " 0.5527178568934747,\n",
       " 0.5527454964321608,\n",
       " 0.5527731020972082,\n",
       " 0.5528006739655866,\n",
       " 0.5528282121144292,\n",
       " 0.5528557166204526,\n",
       " 0.5528831875605725,\n",
       " 0.5529106250112049,\n",
       " 0.5529380290488943,\n",
       " 0.5529653997497666,\n",
       " 0.5529927371902297,\n",
       " 0.5530200414459883,\n",
       " 0.5530473125931642,\n",
       " 0.5530745507072928,\n",
       " 0.5531017558639102,\n",
       " 0.5531289281384775,\n",
       " 0.553156067606182,\n",
       " 0.5531831743421936,\n",
       " 0.5532102484213746,\n",
       " 0.5532372899184883,\n",
       " 0.5532642989081393,\n",
       " 0.5532912754649599,\n",
       " 0.553318219663093,\n",
       " 0.5533451315767466,\n",
       " 0.5533720112798617,\n",
       " 0.5533988588463525,\n",
       " 0.5534256743498264,\n",
       " 0.5534524578638589,\n",
       " 0.553479209461829,\n",
       " 0.5535059292167417,\n",
       " 0.5535326172018282,\n",
       " 0.5535592734898512,\n",
       " 0.5535858981535109,\n",
       " 0.5536124912652843,\n",
       " 0.553639052897692,\n",
       " 0.553665583122893,\n",
       " 0.5536920820127447,\n",
       " 0.5537185496394395,\n",
       " 0.5537449860743785,\n",
       " 0.5537713913893407,\n",
       " 0.5537977656554838,\n",
       " 0.5538241089442006,\n",
       " 0.5538504213264049,\n",
       " 0.5538767028730052,\n",
       " 0.5539029536547267,\n",
       " 0.5539291737420655,\n",
       " 0.5539553632053958,\n",
       " 0.5539815221148502,\n",
       " 0.5540076505405651,\n",
       " 0.5540337485523832,\n",
       " 0.5540598162198621,\n",
       " 0.5540858536126207,\n",
       " 0.5541118607999305,\n",
       " 0.5541378378511124,\n",
       " 0.5541637848349514,\n",
       " 0.5541897018204264,\n",
       " 0.5542155888760468,\n",
       " 0.5542414460704823,\n",
       " 0.5542672734719833,\n",
       " 0.5542930711485737,\n",
       " 0.5543188391683687,\n",
       " 0.5543445775992111,\n",
       " 0.5543702865085663,\n",
       " 0.554395965963798,\n",
       " 0.5544216160325273,\n",
       " 0.554447236781543,\n",
       " 0.5544728282781157,\n",
       " 0.5544983905886471,\n",
       " 0.5545239237799338,\n",
       " 0.5545494279183323,\n",
       " 0.5545749030701312,\n",
       " 0.5546003493014064,\n",
       " 0.5546257666780191,\n",
       " 0.5546511552657127,\n",
       " 0.5546765151301003,\n",
       " 0.5547018463365055,\n",
       " 0.5547271489501824,\n",
       " 0.5547524230361346,\n",
       " 0.5547776686593358,\n",
       " 0.554802885884357,\n",
       " 0.5548280747757182,\n",
       " 0.5548532353979586,\n",
       " 0.5548783678150175,\n",
       " 0.5549034720911128,\n",
       " 0.5549285482899788,\n",
       " 0.5549535964753056,\n",
       " 0.5549786167105856,\n",
       " 0.5550036090591852,\n",
       " 0.5550285735843006,\n",
       " 0.555053510348729,\n",
       " 0.5550784194154939,\n",
       " 0.5551033008471946,\n",
       " 0.5551281547062206,\n",
       " 0.5551529810550085,\n",
       " 0.5551777799555535,\n",
       " 0.5552025514698813,\n",
       " 0.555227295659868,\n",
       " 0.5552520125870224,\n",
       " 0.5552767023128966,\n",
       " 0.5553013648987772,\n",
       " 0.5553260004056915,\n",
       " 0.5553506088947242,\n",
       " 0.5553751904265614,\n",
       " 0.5553997450618918,\n",
       " 0.555424272861125,\n",
       " 0.555448773884564,\n",
       " 0.5554732481922839,\n",
       " 0.5554976958442754,\n",
       " 0.5555221169003681,\n",
       " 0.5555465114201067,\n",
       " 0.5555708794629451,\n",
       " 0.5555952210881825,\n",
       " 0.5556195363551097,\n",
       " 0.555643825322313,\n",
       " 0.55566808804892,\n",
       " 0.5556923245933514,\n",
       " 0.5557165350142168,\n",
       " 0.5557407193696913,\n",
       " 0.5557648777180504,\n",
       " 0.5557890101170566,\n",
       " 0.5558131166246948,\n",
       " 0.5558371972986023,\n",
       " 0.5558612521961176,\n",
       " 0.5558852813747008,\n",
       " 0.555909284891412,\n",
       " 0.5559332628033667,\n",
       " 0.5559572151672969,\n",
       " 0.5559811420400019,\n",
       " 0.5560050434778052,\n",
       " 0.5560289195372246,\n",
       " 0.556052770274305,\n",
       " 0.556076595745209,\n",
       " 0.556100396005767,\n",
       " 0.5561241711117042,\n",
       " 0.5561479211185313,\n",
       " 0.5561716460816871,\n",
       " 0.5561953460564326,\n",
       " 0.5562190210977991,\n",
       " 0.5562426712607805,\n",
       " 0.5562662966000972,\n",
       " 0.5562898971703687,\n",
       " 0.5563134730260595,\n",
       " 0.5563370242214071,\n",
       " 0.5563605508106384,\n",
       " 0.5563840528477688,\n",
       " 0.5564075303864833,\n",
       " 0.5564309834806043,\n",
       " 0.5564544121835842,\n",
       " 0.5564778165488664,\n",
       " 0.5565011966296695,\n",
       " 0.5565245524789051,\n",
       " 0.5565478841497242,\n",
       " 0.5565711916946333,\n",
       " 0.5565944751664766,\n",
       " 0.5566177346175742,\n",
       " 0.5566409701003248,\n",
       " 0.5566641816667846,\n",
       " 0.5566873693690035,\n",
       " 0.5567105332588901,\n",
       " 0.5567336733880446,\n",
       " 0.5567567898081398,\n",
       " 0.5567798825704426,\n",
       " 0.5568029517264178,\n",
       " 0.5568259973270493,\n",
       " 0.5568490194232156,\n",
       " 0.5568720180658691,\n",
       " 0.5568949933056914,\n",
       " 0.5569179451931482,\n",
       " 0.5569408737786334,\n",
       " 0.5569637791123473,\n",
       " 0.5569866612443859,\n",
       " 0.5570095202248252,\n",
       " 0.5570323561032906,\n",
       " 0.5570551689294508,\n",
       " 0.5570779587529391,\n",
       " 0.5571007256229805,\n",
       " 0.5571234695888247,\n",
       " 0.5571461906997416,\n",
       " 0.5571688890044189,\n",
       " 0.5571915645517911,\n",
       " 0.5572142173904713,\n",
       " 0.557236847568932,\n",
       " 0.5572594551356067,\n",
       " 0.5572820401387721,\n",
       " 0.557304602626483,\n",
       " 0.5573271426465816,\n",
       " 0.5573496602470374,\n",
       " 0.5573721554754667,\n",
       " 0.5573946283793159,\n",
       " 0.5574170790061739,\n",
       " 0.5574395074032337,\n",
       " 0.5574619136175418,\n",
       " 0.5574842976961125,\n",
       " 0.5575066596858369,\n",
       " 0.5575289996334933,\n",
       " 0.5575513175855387,\n",
       " 0.5575736135884991,\n",
       " 0.5575958876886182,\n",
       " 0.5576181399321077,\n",
       " 0.5576403703650044,\n",
       " 0.5576625790332985,\n",
       " 0.5576847659826052,\n",
       " 0.5577069312586609,\n",
       " 0.5577290749070687,\n",
       " 0.5577511969729949,\n",
       " 0.5577732975018905,\n",
       " 0.5577953765387507,\n",
       " 0.5578174341285941,\n",
       " 0.5578394703161975,\n",
       " 0.5578614851464183,\n",
       " 0.5578834786637723,\n",
       " 0.5579054509128321,\n",
       " 0.5579274019377366,\n",
       " 0.5579493317828832,\n",
       " 0.5579712404921784,\n",
       " 0.5579931281097323,\n",
       " 0.5580149946792841,\n",
       " 0.5580368402445154,\n",
       " 0.5580586648491084,\n",
       " 0.5580804685363824,\n",
       " 0.5581022513497624,\n",
       " 0.558124013332318,\n",
       " 0.5581457545271893,\n",
       " 0.5581674749773284,\n",
       " 0.5581891747255199,\n",
       " 0.5582108538145405,\n",
       " 0.558232512286851,\n",
       " 0.5582541501849746,\n",
       " 0.5582757675511854,\n",
       " 0.5582973644276972,\n",
       " 0.55831894085663,\n",
       " 0.5583404968799308,\n",
       " 0.5583620325394076,\n",
       " 0.558383547876792,\n",
       " 0.5584050429336829,\n",
       " 0.5584265177515325,\n",
       " 0.5584479723717921,\n",
       " 0.5584694068355465,\n",
       " 0.5584908211840691,\n",
       " 0.5585122154582672,\n",
       " 0.5585335896991173,\n",
       " 0.5585549439471533,\n",
       " 0.5585762782432914,\n",
       " 0.5585975926279616,\n",
       " 0.558618887141448,\n",
       " 0.558640161824195,\n",
       " 0.5586614167163972,\n",
       " 0.5586826518580765,\n",
       " 0.5587038672891526,\n",
       " 0.5587250630494136,\n",
       " 0.5587462391787288,\n",
       " 0.5587673957166488,\n",
       " 0.5587885327025628,\n",
       " 0.5588096501759442,\n",
       " 0.5588307481759012,\n",
       " 0.5588518267418672,\n",
       " 0.5588728859126764,\n",
       " 0.5588939257273097,\n",
       " 0.5589149462245726,\n",
       " 0.5589359474432598,\n",
       " 0.5589569294217858,\n",
       " 0.558977892198697,\n",
       " 0.5589988358125186,\n",
       " 0.5590197603012594,\n",
       " 0.5590406657033247,\n",
       " 0.5590615520564939,\n",
       " 0.5590824193988557,\n",
       " 0.5591032677682983,\n",
       " 0.5591240972024003,\n",
       " 0.5591449077388586,\n",
       " 0.5591656994150928,\n",
       " 0.5591864722686184,\n",
       " 0.5592072263366482,\n",
       " 0.5592279616563072,\n",
       " 0.5592486782647494,\n",
       " 0.5592693761989636,\n",
       " 0.5592900554957243,\n",
       " 0.55931071619187,\n",
       " 0.5593313583240473,\n",
       " 0.5593519819287706,\n",
       " 0.5593725870424403,\n",
       " 0.5593931737015763,\n",
       " 0.5594137419421128,\n",
       " 0.5594342918005908,\n",
       " 0.5594548233126895,\n",
       " 0.5594753365145129,\n",
       " 0.5594958314418401,\n",
       " 0.5595163081303466,\n",
       " 0.559536766615827,\n",
       " 0.5595572069335711,\n",
       " 0.5595776291191799,\n",
       " 0.5595980332079834,\n",
       " 0.5596184192350678,\n",
       " 0.5596387872355884,\n",
       " 0.5596591372447357,\n",
       " 0.5596794692971512,\n",
       " 0.5596997834279132,\n",
       " 0.5597200796716384,\n",
       " 0.5597403580629343,\n",
       " 0.5597606186364286,\n",
       " 0.5597808614264514,\n",
       " 0.5598010864673861,\n",
       " 0.5598212937934137,\n",
       " 0.5598414834387985,\n",
       " 0.5598616554374497,\n",
       " 0.5598818098235242,\n",
       " 0.559901946630587,\n",
       " 0.5599220658925721,\n",
       " 0.5599421676431379,\n",
       " 0.5599622519158525,\n",
       " 0.5599823187442154,\n",
       " 0.5600023681614629,\n",
       " 0.5600224002010312,\n",
       " 0.5600424148961106,\n",
       " 0.5600624122797537,\n",
       " 0.5600823923849836,\n",
       " 0.5601023552445994,\n",
       " 0.560122300891706,\n",
       " 0.5601422293587575,\n",
       " 0.5601621406785511,\n",
       " 0.5601820348835775,\n",
       " 0.5602019120062833,\n",
       " 0.5602217720790847,\n",
       " 0.5602416151342101,\n",
       " 0.5602614412038676,\n",
       " 0.5602812503201896,\n",
       " 0.5603010425150567,\n",
       " 0.5603208178205757,\n",
       " 0.5603405762684356,\n",
       " 0.5603603178904473,\n",
       " 0.5603800427181809,\n",
       " 0.5603997507833509,\n",
       " 0.5604194421172131,\n",
       " 0.5604391167514183,\n",
       " 0.56045877471703,\n",
       " 0.5604784160453902,\n",
       " 0.5604980407676041,\n",
       " 0.5605176489147283,\n",
       " 0.560537240517675,\n",
       " 0.56055681560728,\n",
       " 0.5605763742145187,\n",
       " 0.5605959163698779,\n",
       " 0.5606154421041084,\n",
       " 0.5606349514476516,\n",
       " 0.560654444431026,\n",
       " 0.5606739210844487,\n",
       " 0.560693381438504,\n",
       " 0.5607128255230307,\n",
       " 0.5607322533682748,\n",
       " 0.5607516650043809,\n",
       " 0.5607710604611398,\n",
       " 0.5607904397685313,\n",
       " 0.560809802956264,\n",
       " 0.5608291500540128,\n",
       " 0.5608484810915026,\n",
       " 0.5608677960981427,\n",
       " 0.5608870951034329,\n",
       " 0.560906378136846,\n",
       " 0.5609256452275299,\n",
       " 0.5609448964047447,\n",
       " 0.560964131697648,\n",
       " 0.5609833511353242,\n",
       " 0.5610025547466808,\n",
       " 0.5610217425605568,\n",
       " 0.5610409146060046,\n",
       " 0.5610600709115349,\n",
       " 0.5610792115058547,\n",
       " 0.5610983364176034,\n",
       " 0.5611174456752535,\n",
       " 0.561136539307254,\n",
       " 0.561155617341868,\n",
       " 0.5611746798073702,\n",
       " 0.5611937267321003,\n",
       " 0.5612127581441091,\n",
       " 0.5612317740713187,\n",
       " 0.5612507745418254,\n",
       " 0.5612697595834784,\n",
       " 0.5612887292241617,\n",
       " 0.5613076834913604,\n",
       " 0.5613266224130972,\n",
       " 0.5613455460166674,\n",
       " 0.5613644543297731,\n",
       " 0.561383347379731,\n",
       " 0.5614022251939779,\n",
       " 0.5614210877997081,\n",
       " 0.5614399352243216,\n",
       " 0.5614587674947668,\n",
       " 0.5614775846382392,\n",
       " 0.5614963866816767,\n",
       " 0.5615151736519989,\n",
       " 0.5615339455761492,\n",
       " 0.5615527024807615,\n",
       " 0.5615714443926264,\n",
       " 0.5615901713384019,\n",
       " 0.5616088833446333,\n",
       " 0.5616275804378295,\n",
       " 0.5616462626443143,\n",
       " 0.5616649299905192,\n",
       " 0.5616835825027928,\n",
       " 0.5617022202071527,\n",
       " 0.5617208431299539,\n",
       " 0.561739451297131,\n",
       " 0.5617580447348021,\n",
       " 0.5617766234687294,\n",
       " 0.5617951875249382,\n",
       " 0.5618137369291012,\n",
       " 0.5618322717070353,\n",
       " 0.5618507918843413,\n",
       " 0.5618692974866016,\n",
       " 0.5618877885393174,\n",
       " 0.561906265068064,\n",
       " 0.5619247270981167,\n",
       " 0.5619431746548131,\n",
       " 0.5619616077634344,\n",
       " 0.5619800264490833,\n",
       " 0.561998430736905,\n",
       " 0.5620168206520302,\n",
       " 0.5620351962193553,\n",
       " 0.5620535574638085,\n",
       " 0.5620719044103012,\n",
       " 0.5620902370835738,\n",
       " 0.5621085555083939,\n",
       " 0.562126859709273,\n",
       " 0.5621451497109162,\n",
       " 0.5621634255378618,\n",
       " 0.5621816872145334,\n",
       " 0.5621999347653294,\n",
       " 0.5622181682146332,\n",
       " 0.5622363875866008,\n",
       " 0.562254592905576,\n",
       " 0.5622727841955089,\n",
       " 0.5622909614807179,\n",
       " 0.5623091247850494,\n",
       " 0.5623272741323904,\n",
       " 0.5623454095468934,\n",
       " 0.562363531052142,\n",
       " 0.5623816386720293,\n",
       " 0.5623997324301628,\n",
       " 0.5624178123502677,\n",
       " 0.5624358784558756,\n",
       " 0.562453930770422,\n",
       " 0.562471969317627,\n",
       " 0.5624899941206365,\n",
       " 0.5625080052027991,\n",
       " 0.5625260025875234,\n",
       " 0.5625439862979001,\n",
       " 0.5625619563571551,\n",
       " 0.5625799127882982,\n",
       " 0.5625978556144617,\n",
       " 0.5626157848585449,\n",
       " 0.562633700543478,\n",
       " 0.5626516026921558,\n",
       " 0.5626694913272821,\n",
       " 0.5626873664717117,\n",
       " 0.5627052281479725,\n",
       " 0.5627230763787838,\n",
       " 0.5627409111867003,\n",
       " 0.5627587325942729,\n",
       " 0.5627765406237698,\n",
       " 0.5627943352977596,\n",
       " 0.5628121166384287,\n",
       " 0.5628298846681633,\n",
       " 0.5628476394090518,\n",
       " 0.5628653808834219,\n",
       " 0.5628831091131647,\n",
       " 0.5629008241204745,\n",
       " 0.56291852592731,\n",
       " 0.5629362145554988,\n",
       " 0.5629538900270954,\n",
       " 0.5629715523638321,\n",
       " 0.5629892015873592,\n",
       " 0.5630068377196056,\n",
       " 0.5630244607820074,\n",
       " 0.5630420707961746,\n",
       " 0.5630596677838613,\n",
       " 0.5630772517662864,\n",
       " 0.5630948227651056,\n",
       " 0.563112380801514,\n",
       " 0.5631299258968909,\n",
       " 0.5631474580725284,\n",
       " 0.5631649773496282,\n",
       " 0.5631824837493642,\n",
       " 0.5631999772929008,\n",
       " 0.5632174580011294,\n",
       " 0.5632349258951683,\n",
       " 0.5632523809958868,\n",
       " 0.5632698233242239,\n",
       " 0.5632872529010313,\n",
       " 0.5633046697470794,\n",
       " 0.5633220738830917,\n",
       " 0.563339465329801,\n",
       " 0.5633568441076731,\n",
       " 0.5633742102375116,\n",
       " 0.5633915637397577,\n",
       " 0.5634089046347863,\n",
       " 0.5634262329431216,\n",
       " 0.5634435486851201,\n",
       " 0.5634608518810786,\n",
       " 0.5634781425512172,\n",
       " 0.5634954207158751,\n",
       " 0.5635126863951984,\n",
       " 0.5635299396091648,\n",
       " 0.5635471803780021,\n",
       " 0.5635644087216483,\n",
       " 0.5635816246600346,\n",
       " 0.5635988282131437,\n",
       " 0.5636160194008599,\n",
       " 0.5636331982430168,\n",
       " 0.5636503647591657,\n",
       " 0.5636675189693587,\n",
       " 0.5636846608929962,\n",
       " 0.5637017905497936,\n",
       " 0.5637189079593588,\n",
       " 0.5637360131411859,\n",
       " 0.563753106114693,\n",
       " 0.5637701868992931]"
      ]
     },
     "execution_count": 41,
     "metadata": {},
     "output_type": "execute_result"
    }
   ],
   "source": [
    "Rsqu_test"
   ]
  },
  {
   "cell_type": "code",
   "execution_count": 42,
   "metadata": {},
   "outputs": [
    {
     "data": {
      "text/plain": [
       "60"
      ]
     },
     "execution_count": 42,
     "metadata": {},
     "output_type": "execute_result"
    }
   ],
   "source": [
    "max_position = Rsqu_test.index(0.5478634565809117)\n",
    "Alpha[max_position]"
   ]
  },
  {
   "cell_type": "code",
   "execution_count": 43,
   "metadata": {},
   "outputs": [
    {
     "data": {
      "text/plain": [
       "0.5478634565809117"
      ]
     },
     "execution_count": 43,
     "metadata": {},
     "output_type": "execute_result"
    }
   ],
   "source": [
    "RidgeModel = Ridge(alpha=60) \n",
    "RidgeModel.fit(x_train_pr, y_train)\n",
    "RidgeModel.score(x_test_pr, y_test)"
   ]
  },
  {
   "cell_type": "markdown",
   "metadata": {},
   "source": [
    "## Part 4: Grid search\n",
    "The term Alfa is a hyperparameter, sklearn has the class GridSearchCV to make the process of finding the best hyperparameter simpler."
   ]
  },
  {
   "cell_type": "markdown",
   "metadata": {},
   "source": [
    "### Multiple linear regression as example"
   ]
  },
  {
   "cell_type": "markdown",
   "metadata": {},
   "source": [
    "#### 1. Create dictionary of parameter values in a list"
   ]
  },
  {
   "cell_type": "code",
   "execution_count": 44,
   "metadata": {},
   "outputs": [
    {
     "data": {
      "text/plain": [
       "[{'alpha': [0.001, 0.1, 1, 10, 100, 1000, 10000, 100000, 100000]}]"
      ]
     },
     "execution_count": 44,
     "metadata": {},
     "output_type": "execute_result"
    }
   ],
   "source": [
    "# key-alpha holds a list of values and stored in list --> parameters1\n",
    "# include second key as 'normalize':[True, False] for normalization\n",
    "parameters1 = [{'alpha':[0.001,0.1,1, 10, \n",
    "                         100, 1000, 10000, \n",
    "                         100000, 100000]}] \n",
    "parameters1"
   ]
  },
  {
   "cell_type": "markdown",
   "metadata": {},
   "source": [
    "#### 2. Training - Create ridge grid search object and fit model\n",
    "Training - grid search will split into training and test by cross validation, then  we fit after"
   ]
  },
  {
   "cell_type": "code",
   "execution_count": 45,
   "metadata": {},
   "outputs": [],
   "source": [
    "Grid1 = GridSearchCV(Ridge(), parameters1, cv=4)"
   ]
  },
  {
   "cell_type": "code",
   "execution_count": 46,
   "metadata": {},
   "outputs": [
    {
     "data": {
      "text/plain": [
       "GridSearchCV(cv=4, estimator=Ridge(),\n",
       "             param_grid=[{'alpha': [0.001, 0.1, 1, 10, 100, 1000, 10000, 100000,\n",
       "                                    100000]}])"
      ]
     },
     "execution_count": 46,
     "metadata": {},
     "output_type": "execute_result"
    }
   ],
   "source": [
    "Grid1.fit(x_data[['horsepower', 'curb-weight', \n",
    "                  'engine-size', 'highway-mpg']], y_data)"
   ]
  },
  {
   "cell_type": "markdown",
   "metadata": {},
   "source": [
    "#### 3. Find the best parameter values on the validation of data"
   ]
  },
  {
   "cell_type": "code",
   "execution_count": 47,
   "metadata": {},
   "outputs": [
    {
     "data": {
      "text/plain": [
       "Ridge(alpha=10000)"
      ]
     },
     "execution_count": 47,
     "metadata": {},
     "output_type": "execute_result"
    }
   ],
   "source": [
    "BestRR = Grid1.best_estimator_\n",
    "BestRR"
   ]
  },
  {
   "cell_type": "markdown",
   "metadata": {},
   "source": [
    "#### 4. get test score on test data at best alpha parameter"
   ]
  },
  {
   "cell_type": "code",
   "execution_count": 48,
   "metadata": {},
   "outputs": [
    {
     "data": {
      "text/plain": [
       "0.8411649831036152"
      ]
     },
     "execution_count": 48,
     "metadata": {},
     "output_type": "execute_result"
    }
   ],
   "source": [
    "BestRR.score(x_test[['horsepower', 'curb-weight', \n",
    "                     'engine-size', 'highway-mpg']], y_test)"
   ]
  }
 ],
 "metadata": {
  "kernelspec": {
   "display_name": "Python 3",
   "language": "python",
   "name": "python3"
  },
  "language_info": {
   "codemirror_mode": {
    "name": "ipython",
    "version": 3
   },
   "file_extension": ".py",
   "mimetype": "text/x-python",
   "name": "python",
   "nbconvert_exporter": "python",
   "pygments_lexer": "ipython3",
   "version": "3.7.10"
  },
  "toc-autonumbering": false,
  "toc-showcode": false,
  "toc-showmarkdowntxt": false
 },
 "nbformat": 4,
 "nbformat_minor": 4
}
