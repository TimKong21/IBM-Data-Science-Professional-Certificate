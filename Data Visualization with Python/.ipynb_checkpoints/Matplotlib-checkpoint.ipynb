{
 "cells": [
  {
   "cell_type": "markdown",
   "metadata": {},
   "source": [
    "# Data Visualization with Matplotlib\n",
    "<hr>"
   ]
  },
  {
   "cell_type": "markdown",
   "metadata": {},
   "source": [
    "## Table of Contents\n",
    "<div style = \"background-color:#80ffff; padding: 10px; color: #3399ff\">  \n",
    "1. ote:<br>\n",
    "    1.1 Three layer Matplotlib<br>\n",
    "    \n",
    "    \n",
    "    \n",
    "               \n",
    "       \n",
    "       \n",
    "    \n",
    "       \n",
    "       \n",
    "               \n",
    "</div>\n",
    "<hr>\n"
   ]
  },
  {
   "cell_type": "code",
   "execution_count": null,
   "metadata": {},
   "outputs": [],
   "source": [
    "<ul>\n",
    "                   <li>Backend</li>\n",
    "                   <li>Artist</li>\n",
    "                   <li>Scripting</li></ul></p>"
   ]
  }
 ],
 "metadata": {
  "kernelspec": {
   "display_name": "Python 3",
   "language": "python",
   "name": "python3"
  },
  "language_info": {
   "codemirror_mode": {
    "name": "ipython",
    "version": 3
   },
   "file_extension": ".py",
   "mimetype": "text/x-python",
   "name": "python",
   "nbconvert_exporter": "python",
   "pygments_lexer": "ipython3",
   "version": "3.7.7"
  }
 },
 "nbformat": 4,
 "nbformat_minor": 4
}
